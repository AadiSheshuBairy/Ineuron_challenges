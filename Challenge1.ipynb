{
 "cells": [
  {
   "cell_type": "raw",
   "id": "185d3c84",
   "metadata": {},
   "source": [
    "q1 : Try to print this by using while loop \n",
    "* \n",
    "* * \n",
    "* * * \n",
    "* * * * \n",
    "* * * * * \n",
    "* * * * * * \n",
    "* * * * * * * \n",
    "* * * * * * * * \n",
    "* * * * * * * * * "
   ]
  },
  {
   "cell_type": "code",
   "execution_count": 1,
   "id": "2d4c7deb",
   "metadata": {},
   "outputs": [
    {
     "name": "stdout",
     "output_type": "stream",
     "text": [
      "* \n",
      "* * \n",
      "* * * \n",
      "* * * * \n",
      "* * * * * \n",
      "* * * * * * \n",
      "* * * * * * * \n",
      "* * * * * * * * \n",
      "* * * * * * * * * \n",
      "* * * * * * * * * * \n"
     ]
    }
   ],
   "source": [
    "a=1\n",
    "b=10\n",
    "while a<=b:\n",
    "    j=1\n",
    "    while j<=a:\n",
    "        print('*',end=\" \")\n",
    "        j=j+1\n",
    "    \n",
    "    print()\n",
    "    a=a+1"
   ]
  },
  {
   "cell_type": "raw",
   "id": "354ea82d",
   "metadata": {},
   "source": [
    "q2 : try to print below by using while loop : \n",
    "        \n",
    "A\n",
    "B H \n",
    "C I N\n",
    "D J o S\n",
    "E K p T W\n",
    "F L Q U X z\n",
    "G M R V Y "
   ]
  },
  {
   "cell_type": "code",
   "execution_count": 2,
   "id": "d7ee7d18",
   "metadata": {},
   "outputs": [
    {
     "name": "stdout",
     "output_type": "stream",
     "text": [
      "A \n",
      "B H \n",
      "C I N \n",
      "D J O S \n",
      "E K P T W \n",
      "F L Q U X Z \n",
      "G M R V Y \n"
     ]
    }
   ],
   "source": [
    "i=0\n",
    "while i<7:\n",
    "    c=65+i\n",
    "    j=0\n",
    "    while j<(i+1):\n",
    "        if c==91:\n",
    "            break\n",
    "        print(chr(c),end=\" \")\n",
    "        c=c+6-j\n",
    "        j=j+1\n",
    "    i=i+1\n",
    "    print()\n"
   ]
  },
  {
   "cell_type": "markdown",
   "id": "e779210f",
   "metadata": {},
   "source": [
    "q3 : Try to print all the number divisible by 3 in between a range of 40 - 400\n",
    "    "
   ]
  },
  {
   "cell_type": "code",
   "execution_count": 3,
   "id": "7b5438d8",
   "metadata": {},
   "outputs": [
    {
     "name": "stdout",
     "output_type": "stream",
     "text": [
      "41 43 44 46 47 49 50 52 53 55 56 58 59 61 62 64 65 67 68 70 71 73 74 76 77 79 80 82 83 85 86 88 89 91 92 94 95 97 98 100 101 103 104 106 107 109 110 112 113 115 116 118 119 121 122 124 125 127 128 130 131 133 134 136 137 139 140 142 143 145 146 148 149 151 152 154 155 157 158 160 161 163 164 166 167 169 170 172 173 175 176 178 179 181 182 184 185 187 188 190 191 193 194 196 197 199 200 202 203 205 206 208 209 211 212 214 215 217 218 220 221 223 224 226 227 229 230 232 233 235 236 238 239 241 242 244 245 247 248 250 251 253 254 256 257 259 260 262 263 265 266 268 269 271 272 274 275 277 278 280 281 283 284 286 287 289 290 292 293 295 296 298 299 301 302 304 305 307 308 310 311 313 314 316 317 319 320 322 323 325 326 328 329 331 332 334 335 337 338 340 341 343 344 346 347 349 350 352 353 355 356 358 359 361 362 364 365 367 368 370 371 373 374 376 377 379 380 382 383 385 386 388 389 391 392 394 395 397 398 400 "
     ]
    }
   ],
   "source": [
    "a=40\n",
    "b=399\n",
    "while a<=b:\n",
    "    a=a+1\n",
    "    \n",
    "    if a%3==0:\n",
    "        continue\n",
    "    print(a,end=\" \")\n",
    "    "
   ]
  },
  {
   "cell_type": "markdown",
   "id": "ff1f3f1b",
   "metadata": {},
   "source": [
    "q4 : Try to filter out all the vowels form below text by using while loop : \n",
    " \"\"\"Python is a high-level, interpreted, general-purpose programming language. Its design philosophy emphasizes code readability with the use of significant indentation.[32]\n"
   ]
  },
  {
   "cell_type": "code",
   "execution_count": 4,
   "id": "11389a20",
   "metadata": {},
   "outputs": [
    {
     "data": {
      "text/plain": [
       "163"
      ]
     },
     "execution_count": 4,
     "metadata": {},
     "output_type": "execute_result"
    }
   ],
   "source": [
    "s=\"Python is a high-level, interpreted, general-purpose programming language.Its design philosophy emphasizes code readability with the use of significant indentation\"\n",
    "len(s)"
   ]
  },
  {
   "cell_type": "code",
   "execution_count": 5,
   "id": "baa7e195",
   "metadata": {},
   "outputs": [
    {
     "name": "stdout",
     "output_type": "stream",
     "text": [
      "o i a i e e i e e e e e a u o e o a i a u a e i e i i o o e a i e o e e a a i i i e u e o i i i a i e a i o "
     ]
    }
   ],
   "source": [
    "i=0\n",
    "v=\"aeiou\"\n",
    "s=s.lower()\n",
    "while i <len(s):\n",
    "    if s[i] in v:\n",
    "        print(s[i],end=\" \")\n",
    "    i=i+1"
   ]
  },
  {
   "cell_type": "markdown",
   "id": "f0ee5b2f",
   "metadata": {},
   "source": [
    "\n",
    "q5 : Try to generate all the even number between 1- 1000\n",
    "    "
   ]
  },
  {
   "cell_type": "code",
   "execution_count": 6,
   "id": "2f1e82f1",
   "metadata": {},
   "outputs": [
    {
     "name": "stdout",
     "output_type": "stream",
     "text": [
      "2 4 6 8 10 12 14 16 18 20 22 24 26 28 30 32 34 36 38 40 42 44 46 48 50 52 54 56 58 60 62 64 66 68 70 72 74 76 78 80 82 84 86 88 90 92 94 96 98 100 102 104 106 108 110 112 114 116 118 120 122 124 126 128 130 132 134 136 138 140 142 144 146 148 150 152 154 156 158 160 162 164 166 168 170 172 174 176 178 180 182 184 186 188 190 192 194 196 198 200 202 204 206 208 210 212 214 216 218 220 222 224 226 228 230 232 234 236 238 240 242 244 246 248 250 252 254 256 258 260 262 264 266 268 270 272 274 276 278 280 282 284 286 288 290 292 294 296 298 300 302 304 306 308 310 312 314 316 318 320 322 324 326 328 330 332 334 336 338 340 342 344 346 348 350 352 354 356 358 360 362 364 366 368 370 372 374 376 378 380 382 384 386 388 390 392 394 396 398 400 402 404 406 408 410 412 414 416 418 420 422 424 426 428 430 432 434 436 438 440 442 444 446 448 450 452 454 456 458 460 462 464 466 468 470 472 474 476 478 480 482 484 486 488 490 492 494 496 498 500 502 504 506 508 510 512 514 516 518 520 522 524 526 528 530 532 534 536 538 540 542 544 546 548 550 552 554 556 558 560 562 564 566 568 570 572 574 576 578 580 582 584 586 588 590 592 594 596 598 600 602 604 606 608 610 612 614 616 618 620 622 624 626 628 630 632 634 636 638 640 642 644 646 648 650 652 654 656 658 660 662 664 666 668 670 672 674 676 678 680 682 684 686 688 690 692 694 696 698 700 702 704 706 708 710 712 714 716 718 720 722 724 726 728 730 732 734 736 738 740 742 744 746 748 750 752 754 756 758 760 762 764 766 768 770 772 774 776 778 780 782 784 786 788 790 792 794 796 798 800 802 804 806 808 810 812 814 816 818 820 822 824 826 828 830 832 834 836 838 840 842 844 846 848 850 852 854 856 858 860 862 864 866 868 870 872 874 876 878 880 882 884 886 888 890 892 894 896 898 900 902 904 906 908 910 912 914 916 918 920 922 924 926 928 930 932 934 936 938 940 942 944 946 948 950 952 954 956 958 960 962 964 966 968 970 972 974 976 978 980 982 984 986 988 990 992 994 996 998 1000 "
     ]
    }
   ],
   "source": [
    "a=1\n",
    "b=1000\n",
    "while a<=b:\n",
    "    if a%2==0:\n",
    "        print(a,end=\" \")\n",
    "    a=a+1"
   ]
  },
  {
   "cell_type": "markdown",
   "id": "f75ddb2b",
   "metadata": {},
   "source": [
    "q6 : Define a function for all the above problem statememnt  . "
   ]
  },
  {
   "cell_type": "code",
   "execution_count": 7,
   "id": "80e218aa",
   "metadata": {},
   "outputs": [],
   "source": [
    "def pattern(a,b):\n",
    "    while a<=b:\n",
    "        j=1\n",
    "        while j<=a:\n",
    "            print('*',end=\" \")\n",
    "            j=j+1\n",
    "    \n",
    "        print()\n",
    "        a=a+1\n",
    "    "
   ]
  },
  {
   "cell_type": "code",
   "execution_count": 8,
   "id": "6b396439",
   "metadata": {},
   "outputs": [
    {
     "name": "stdout",
     "output_type": "stream",
     "text": [
      "* \n",
      "* * \n",
      "* * * \n",
      "* * * * \n",
      "* * * * * \n",
      "* * * * * * \n",
      "* * * * * * * \n",
      "* * * * * * * * \n",
      "* * * * * * * * * \n",
      "* * * * * * * * * * \n"
     ]
    }
   ],
   "source": [
    "pattern(1,10)"
   ]
  },
  {
   "cell_type": "code",
   "execution_count": 9,
   "id": "0db719c9",
   "metadata": {},
   "outputs": [],
   "source": [
    "def pattern1(i):\n",
    "    i=0\n",
    "    while i<7:\n",
    "        c=65+i\n",
    "        j=0\n",
    "        while j<(i+1):\n",
    "            if c==91:\n",
    "                break\n",
    "            print(chr(c),end=\" \")\n",
    "            c=c+6-j\n",
    "            j=j+1\n",
    "        i=i+1\n",
    "        print()\n"
   ]
  },
  {
   "cell_type": "code",
   "execution_count": 10,
   "id": "96e7eaa1",
   "metadata": {},
   "outputs": [
    {
     "name": "stdout",
     "output_type": "stream",
     "text": [
      "A \n",
      "B H \n",
      "C I N \n",
      "D J O S \n",
      "E K P T W \n",
      "F L Q U X Z \n",
      "G M R V Y \n"
     ]
    }
   ],
   "source": [
    "pattern1(0)"
   ]
  },
  {
   "cell_type": "code",
   "execution_count": 11,
   "id": "7419b2bb",
   "metadata": {},
   "outputs": [],
   "source": [
    "def div_by_3(a,b):\n",
    "    while a<=b:\n",
    "        a=a+1\n",
    "    \n",
    "        if a%3==0:\n",
    "            continue\n",
    "        print(a,end=\" \")\n",
    "    "
   ]
  },
  {
   "cell_type": "code",
   "execution_count": 12,
   "id": "0da64f04",
   "metadata": {},
   "outputs": [
    {
     "name": "stdout",
     "output_type": "stream",
     "text": [
      "41 43 44 46 47 49 50 52 53 55 56 58 59 61 62 64 65 67 68 70 71 73 74 76 77 79 80 82 83 85 86 88 89 91 92 94 95 97 98 100 101 103 104 106 107 109 110 112 113 115 116 118 119 121 122 124 125 127 128 130 131 133 134 136 137 139 140 142 143 145 146 148 149 151 152 154 155 157 158 160 161 163 164 166 167 169 170 172 173 175 176 178 179 181 182 184 185 187 188 190 191 193 194 196 197 199 200 202 203 205 206 208 209 211 212 214 215 217 218 220 221 223 224 226 227 229 230 232 233 235 236 238 239 241 242 244 245 247 248 250 251 253 254 256 257 259 260 262 263 265 266 268 269 271 272 274 275 277 278 280 281 283 284 286 287 289 290 292 293 295 296 298 299 301 302 304 305 307 308 310 311 313 314 316 317 319 320 322 323 325 326 328 329 331 332 334 335 337 338 340 341 343 344 346 347 349 350 352 353 355 356 358 359 361 362 364 365 367 368 370 371 373 374 376 377 379 380 382 383 385 386 388 389 391 392 394 395 397 398 400 401 "
     ]
    }
   ],
   "source": [
    "div_by_3(40,400)"
   ]
  },
  {
   "cell_type": "code",
   "execution_count": 13,
   "id": "1d72c9f3",
   "metadata": {},
   "outputs": [],
   "source": [
    "def vowel(s):\n",
    "    i=0\n",
    "    v=\"aeiou\"\n",
    "    s=s.lower()\n",
    "    while i <len(s):\n",
    "        if s[i] in v:\n",
    "            print(s[i],end=\" \")\n",
    "        i=i+1"
   ]
  },
  {
   "cell_type": "code",
   "execution_count": 14,
   "id": "382a869c",
   "metadata": {},
   "outputs": [
    {
     "name": "stdout",
     "output_type": "stream",
     "text": [
      "o i a i e e i e e e e e a u o e o a i a u a e i e i i o o e a i e o e e a a i i i e u e o i i i a i e a i o "
     ]
    }
   ],
   "source": [
    "vowel(\"Python is a high-level, interpreted, general-purpose programming language.Its design philosophy emphasizes code readability with the use of significant indentation\")"
   ]
  },
  {
   "cell_type": "code",
   "execution_count": 15,
   "id": "16755a95",
   "metadata": {},
   "outputs": [],
   "source": [
    "def prime_num(a,b):\n",
    "    while a<=b:\n",
    "        if a%2==0:\n",
    "            print(a,end=\" \")\n",
    "        a=a+1"
   ]
  },
  {
   "cell_type": "code",
   "execution_count": 16,
   "id": "6ba6814c",
   "metadata": {},
   "outputs": [
    {
     "name": "stdout",
     "output_type": "stream",
     "text": [
      "2 4 6 8 10 12 14 16 18 20 22 24 26 28 30 32 34 36 38 40 42 44 46 48 50 52 54 56 58 60 62 64 66 68 70 72 74 76 78 80 82 84 86 88 90 92 94 96 98 100 102 104 106 108 110 112 114 116 118 120 122 124 126 128 130 132 134 136 138 140 142 144 146 148 150 152 154 156 158 160 162 164 166 168 170 172 174 176 178 180 182 184 186 188 190 192 194 196 198 200 202 204 206 208 210 212 214 216 218 220 222 224 226 228 230 232 234 236 238 240 242 244 246 248 250 252 254 256 258 260 262 264 266 268 270 272 274 276 278 280 282 284 286 288 290 292 294 296 298 300 302 304 306 308 310 312 314 316 318 320 322 324 326 328 330 332 334 336 338 340 342 344 346 348 350 352 354 356 358 360 362 364 366 368 370 372 374 376 378 380 382 384 386 388 390 392 394 396 398 400 402 404 406 408 410 412 414 416 418 420 422 424 426 428 430 432 434 436 438 440 442 444 446 448 450 452 454 456 458 460 462 464 466 468 470 472 474 476 478 480 482 484 486 488 490 492 494 496 498 500 502 504 506 508 510 512 514 516 518 520 522 524 526 528 530 532 534 536 538 540 542 544 546 548 550 552 554 556 558 560 562 564 566 568 570 572 574 576 578 580 582 584 586 588 590 592 594 596 598 600 602 604 606 608 610 612 614 616 618 620 622 624 626 628 630 632 634 636 638 640 642 644 646 648 650 652 654 656 658 660 662 664 666 668 670 672 674 676 678 680 682 684 686 688 690 692 694 696 698 700 702 704 706 708 710 712 714 716 718 720 722 724 726 728 730 732 734 736 738 740 742 744 746 748 750 752 754 756 758 760 762 764 766 768 770 772 774 776 778 780 782 784 786 788 790 792 794 796 798 800 802 804 806 808 810 812 814 816 818 820 822 824 826 828 830 832 834 836 838 840 842 844 846 848 850 852 854 856 858 860 862 864 866 868 870 872 874 876 878 880 882 884 886 888 890 892 894 896 898 900 902 904 906 908 910 912 914 916 918 920 922 924 926 928 930 932 934 936 938 940 942 944 946 948 950 952 954 956 958 960 962 964 966 968 970 972 974 976 978 980 982 984 986 988 990 992 994 996 998 1000 "
     ]
    }
   ],
   "source": [
    "prime_num(1,1000)"
   ]
  },
  {
   "cell_type": "markdown",
   "id": "fd7215ea",
   "metadata": {},
   "source": [
    "q7 : write a code to get a time of your system \n"
   ]
  },
  {
   "cell_type": "code",
   "execution_count": 17,
   "id": "5f8fc808",
   "metadata": {},
   "outputs": [
    {
     "data": {
      "text/plain": [
       "datetime.time(21, 2, 37, 106824)"
      ]
     },
     "execution_count": 17,
     "metadata": {},
     "output_type": "execute_result"
    }
   ],
   "source": [
    "import datetime\n",
    "datetime.datetime.now().time()"
   ]
  },
  {
   "cell_type": "markdown",
   "id": "e63e4a4c",
   "metadata": {},
   "source": [
    "q8 : Write a code to fetch date form your system "
   ]
  },
  {
   "cell_type": "code",
   "execution_count": 18,
   "id": "8ce526e1",
   "metadata": {},
   "outputs": [
    {
     "data": {
      "text/plain": [
       "datetime.date(2022, 7, 18)"
      ]
     },
     "execution_count": 18,
     "metadata": {},
     "output_type": "execute_result"
    }
   ],
   "source": [
    "datetime.date.today()"
   ]
  },
  {
   "cell_type": "markdown",
   "id": "c5759316",
   "metadata": {},
   "source": [
    " \n",
    "q9 : Write a code to send a mail to your friend"
   ]
  },
  {
   "cell_type": "code",
   "execution_count": null,
   "id": "8eb3010a",
   "metadata": {},
   "outputs": [],
   "source": [
    "import smtplib\n",
    "server = smtplib.SMTP('smtp.gmail.com',587)\n",
    "\n",
    "server.starttls()\n",
    "\n",
    "server.login('***@gmail.com',\"****\")\n",
    "\n",
    "server.sendmail('**@gmail.com','**@gmail.com','TEST EMAIL from Python')\n",
    "\n",
    "print('Mail sent')"
   ]
  },
  {
   "cell_type": "markdown",
   "id": "c15c030d",
   "metadata": {},
   "source": [
    "q10 : write a code to trigger alarm for you at scheduled time \n"
   ]
  },
  {
   "cell_type": "code",
   "execution_count": null,
   "id": "2d33f716",
   "metadata": {},
   "outputs": [],
   "source": [
    "import time\n",
    "import playsound\n",
    "\n",
    "alarm_time = '10:22'\n",
    "if time.asctime()[11:-8] == alarm_time :\n",
    "    absolute_path = os.path.abspath(\"texttovoice.mp3\")\n",
    "    print(absolute_path)\n",
    "    playsound.playsound(absolute_path)\n"
   ]
  },
  {
   "cell_type": "markdown",
   "id": "53679e1e",
   "metadata": {},
   "source": [
    "q11 : write a code to check ip address of your system "
   ]
  },
  {
   "cell_type": "code",
   "execution_count": 19,
   "id": "04380eed",
   "metadata": {},
   "outputs": [
    {
     "name": "stdout",
     "output_type": "stream",
     "text": [
      "your ip address is  192.168.1.4\n",
      "your computer name is  Aadigoudbairy\n"
     ]
    }
   ],
   "source": [
    "import socket\n",
    "host= socket.gethostname()\n",
    "ip = socket.gethostbyname(host)\n",
    "print(\"your ip address is \", ip)\n",
    "print(\"your computer name is \", host)\n"
   ]
  },
  {
   "cell_type": "markdown",
   "id": "fe266fa9",
   "metadata": {},
   "source": [
    "q12 : Write a code to check a perticular installation in your system"
   ]
  },
  {
   "cell_type": "code",
   "execution_count": null,
   "id": "ba4e8469",
   "metadata": {},
   "outputs": [],
   "source": [
    "!pip install winapps\n",
    "import winapps\n",
    "\n",
    "list(winapps.list_installed())"
   ]
  },
  {
   "cell_type": "markdown",
   "id": "0e62b7f0",
   "metadata": {},
   "source": [
    "q13 : Write a code to convert any text in to voice "
   ]
  },
  {
   "cell_type": "code",
   "execution_count": null,
   "id": "9030d468",
   "metadata": {},
   "outputs": [],
   "source": [
    "import gtts\n",
    "from playsound import playsound\n",
    "def txt_to_voice(str1):\n",
    "    tts=gtts.gTTS(str1)\n",
    "    tts.save(\"Hello.mp3\")\n",
    "    playsound(\"Hello.mp3\")\n",
    "            \n",
    "Text=input(\"Enter the text to convert to voice: \")\n",
    "txt_to_voice(Text)\n"
   ]
  },
  {
   "cell_type": "markdown",
   "id": "73ac2f8a",
   "metadata": {},
   "source": [
    "q14 : you have to write a fun which will take string and return a len of \n",
    "it without using a inbuilt fun len"
   ]
  },
  {
   "cell_type": "code",
   "execution_count": 20,
   "id": "5f96159d",
   "metadata": {},
   "outputs": [],
   "source": [
    "def length(string):\n",
    "    count=0\n",
    "    for i in string:\n",
    "        count=count+1\n",
    "    return count"
   ]
  },
  {
   "cell_type": "code",
   "execution_count": 21,
   "id": "b63707a2",
   "metadata": {},
   "outputs": [
    {
     "data": {
      "text/plain": [
       "4"
      ]
     },
     "execution_count": 21,
     "metadata": {},
     "output_type": "execute_result"
    }
   ],
   "source": [
    "length(\"aadi\")"
   ]
  },
  {
   "cell_type": "markdown",
   "id": "2440448f",
   "metadata": {},
   "source": [
    "q15 :write a fun which will be able to print an index of all premitive element which you will pass "
   ]
  },
  {
   "cell_type": "code",
   "execution_count": 22,
   "id": "3f27c4b8",
   "metadata": {},
   "outputs": [],
   "source": [
    "def tell_index(l):\n",
    "    for i in range(len(l)):\n",
    "        print(i)\n",
    "        "
   ]
  },
  {
   "cell_type": "code",
   "execution_count": 23,
   "id": "8cbb7e7e",
   "metadata": {},
   "outputs": [
    {
     "name": "stdout",
     "output_type": "stream",
     "text": [
      "0\n",
      "1\n",
      "2\n",
      "3\n",
      "4\n",
      "5\n",
      "6\n"
     ]
    }
   ],
   "source": [
    "tell_index([1,2,3,4,5,6,\"aadi\"])"
   ]
  },
  {
   "cell_type": "markdown",
   "id": "dd84f9c0",
   "metadata": {},
   "source": [
    "q16 : Write a fun which will take input as a dict and give me out as a list of all the values \n",
    "even in case of 2 level nesting it should work ."
   ]
  },
  {
   "cell_type": "code",
   "execution_count": 24,
   "id": "6a95bbb4",
   "metadata": {},
   "outputs": [],
   "source": [
    "d={1:\"aadi\",2:\"goud\",3:\"bairy\",4:\"ineuron\",5:{6:\"data\",7:\"science\"}}"
   ]
  },
  {
   "cell_type": "code",
   "execution_count": 25,
   "id": "d678b757",
   "metadata": {},
   "outputs": [],
   "source": [
    "def convrt_to_list(d):\n",
    "    l=[]\n",
    "    for i in d.values():\n",
    "        if type(i) !=dict:\n",
    "            l.append(i)\n",
    "        if type(i)==dict:\n",
    "            for j in i.values():\n",
    "                l.append(j)\n",
    "    return l"
   ]
  },
  {
   "cell_type": "code",
   "execution_count": 26,
   "id": "a2856ecd",
   "metadata": {},
   "outputs": [
    {
     "data": {
      "text/plain": [
       "['aadi', 'goud', 'bairy', 'ineuron', 'data', 'science']"
      ]
     },
     "execution_count": 26,
     "metadata": {},
     "output_type": "execute_result"
    }
   ],
   "source": [
    "convrt_to_list(d)"
   ]
  },
  {
   "cell_type": "code",
   "execution_count": null,
   "id": "93dddd1c",
   "metadata": {},
   "outputs": [],
   "source": []
  },
  {
   "cell_type": "code",
   "execution_count": null,
   "id": "8796b10d",
   "metadata": {},
   "outputs": [],
   "source": []
  },
  {
   "cell_type": "code",
   "execution_count": null,
   "id": "95e8f449",
   "metadata": {},
   "outputs": [],
   "source": []
  }
 ],
 "metadata": {
  "kernelspec": {
   "display_name": "Python 3 (ipykernel)",
   "language": "python",
   "name": "python3"
  },
  "language_info": {
   "codemirror_mode": {
    "name": "ipython",
    "version": 3
   },
   "file_extension": ".py",
   "mimetype": "text/x-python",
   "name": "python",
   "nbconvert_exporter": "python",
   "pygments_lexer": "ipython3",
   "version": "3.9.7"
  }
 },
 "nbformat": 4,
 "nbformat_minor": 5
}
